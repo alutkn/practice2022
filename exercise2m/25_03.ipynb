{
  "nbformat": 4,
  "nbformat_minor": 0,
  "metadata": {
    "colab": {
      "provenance": []
    },
    "kernelspec": {
      "name": "python3",
      "display_name": "Python 3"
    },
    "language_info": {
      "name": "python"
    }
  },
  "cells": [
    {
      "cell_type": "markdown",
      "source": [
        "Я не поняла, что значит \"перенумеровать строки\", да и вряд ли бы смогла это сделать.\n",
        "\n",
        "Надеюсь, результат хотя бы немного совпадает с ожидаемым."
      ],
      "metadata": {
        "id": "p53Xc81HYgwW"
      }
    },
    {
      "cell_type": "code",
      "execution_count": 121,
      "metadata": {
        "id": "68n3utpl3i3m"
      },
      "outputs": [],
      "source": [
        "import numpy as np\n",
        "import csv\n",
        "\n",
        "rows = []"
      ]
    },
    {
      "cell_type": "code",
      "source": [
        "with open('sample.csv', 'r') as f: # открывается файл\n",
        "  reader = csv.reader(f) # чтение csv\n",
        "  for row in reader: # каждая строка\n",
        "    for i in row:\n",
        "      i = float(i) # конвертация\n",
        "    rows.append(row)"
      ],
      "metadata": {
        "id": "BOib2CJp3rJu"
      },
      "execution_count": 61,
      "outputs": []
    },
    {
      "cell_type": "code",
      "source": [
        "data = np.array(rows, dtype=float) # массив"
      ],
      "metadata": {
        "id": "TNhblpiv3sKI"
      },
      "execution_count": 62,
      "outputs": []
    },
    {
      "cell_type": "code",
      "source": [
        "row_dev = [] # списов отклонений\n",
        "row_mean = [] # список средних\n",
        "row_greater = [] # среднеквадратичное отклонение больше 250\n",
        "for d in data:\n",
        "    deviation = np.std(d) # среднеквадратичное отклонение\n",
        "    mean = np.mean(d) # среднее значение\n",
        "    row_dev.append(deviation)\n",
        "    row_mean.append(mean)\n",
        "    if deviation > 250:\n",
        "      row_greater.append(d)"
      ],
      "metadata": {
        "id": "FIE-Zw08-qRG"
      },
      "execution_count": 117,
      "outputs": []
    },
    {
      "cell_type": "code",
      "source": [
        "with open(\"output.txt\", \"w\") as file: # файл для записи\n",
        "  for rg in row_greater: # элемент с с.кв. >250\n",
        "    final_line = [] # список для вывода с округлением\n",
        "    for item in rg:\n",
        "      item = round(item, 2) # округление до 2 знаков\n",
        "      final_line.append(item)\n",
        "    for fl in final_line: \n",
        "      file.write(str(fl)+'\\t'+'') # вывод округления через табуляцию\n",
        "    file.write('\\n\\n') # отделяет строки"
      ],
      "metadata": {
        "id": "fUg7jvK-VPY0"
      },
      "execution_count": 119,
      "outputs": []
    }
  ]
}